{
 "cells": [
  {
   "cell_type": "code",
   "execution_count": 54,
   "metadata": {},
   "outputs": [
    {
     "name": "stdout",
     "output_type": "stream",
     "text": [
      "21.00056\n",
      "24.00692\n"
     ]
    }
   ],
   "source": [
    "import numpy as np\n",
    "\n",
    "total1 = 0\n",
    "total2 = 0\n",
    "for i in range (100000):\n",
    "    count =0\n",
    "    nian = 0\n",
    "    aak = 0\n",
    "    while 1:\n",
    "        number = np.random.randint(100)\n",
    "        if number<=34:\n",
    "            nian +=1\n",
    "        elif number <=69 and number>34:\n",
    "            aak +=1\n",
    "        count += 1\n",
    "        if nian >=6 and aak >= 6:\n",
    "            break\n",
    "    total1 += count\n",
    "for i in range (100000):\n",
    "    count =0\n",
    "    nian = 0\n",
    "    aak = 0\n",
    "    while 1:\n",
    "        if nian <6:\n",
    "            count+=1\n",
    "            number = np.random.randint(100)\n",
    "            if number<=49:\n",
    "                nian +=1\n",
    "        if aak <6:\n",
    "            count +=1\n",
    "            number = np.random.randint(100)\n",
    "            if number<=49:\n",
    "                aak +=1\n",
    "        if nian >=6 and aak >= 6:\n",
    "            break\n",
    "    total2 += count\n",
    "print (total1/100000)\n",
    "print (total2/100000)"
   ]
  },
  {
   "cell_type": "code",
   "execution_count": 10,
   "metadata": {},
   "outputs": [
    {
     "data": {
      "text/plain": [
       "23"
      ]
     },
     "execution_count": 10,
     "metadata": {},
     "output_type": "execute_result"
    }
   ],
   "source": [
    "np.random.randint(100)"
   ]
  },
  {
   "cell_type": "code",
   "execution_count": 25,
   "metadata": {},
   "outputs": [
    {
     "data": {
      "text/plain": [
       "10.0"
      ]
     },
     "execution_count": 25,
     "metadata": {},
     "output_type": "execute_result"
    }
   ],
   "source": [
    "100/10"
   ]
  },
  {
   "cell_type": "code",
   "execution_count": null,
   "metadata": {},
   "outputs": [],
   "source": []
  },
  {
   "cell_type": "code",
   "execution_count": null,
   "metadata": {},
   "outputs": [],
   "source": []
  }
 ],
 "metadata": {
  "kernelspec": {
   "display_name": "Python 3",
   "language": "python",
   "name": "python3"
  },
  "language_info": {
   "codemirror_mode": {
    "name": "ipython",
    "version": 3
   },
   "file_extension": ".py",
   "mimetype": "text/x-python",
   "name": "python",
   "nbconvert_exporter": "python",
   "pygments_lexer": "ipython3",
   "version": "3.7.3"
  }
 },
 "nbformat": 4,
 "nbformat_minor": 2
}
